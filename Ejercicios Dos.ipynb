{
 "cells": [
  {
   "cell_type": "code",
   "execution_count": 2,
   "metadata": {},
   "outputs": [],
   "source": [
    "import numpy as np"
   ]
  },
  {
   "attachments": {},
   "cell_type": "markdown",
   "metadata": {},
   "source": [
    "### Ejercicio 1"
   ]
  },
  {
   "cell_type": "code",
   "execution_count": 3,
   "metadata": {},
   "outputs": [
    {
     "name": "stdout",
     "output_type": "stream",
     "text": [
      "[[0 0]\n",
      " [0 0]\n",
      " [0 0]]\n"
     ]
    }
   ],
   "source": [
    "A = np.array([[1,4],[-1,3],[2,-9]])\n",
    "cero= np.zeros((3,2))\n",
    "r=A-A\n",
    "print(r)"
   ]
  },
  {
   "attachments": {},
   "cell_type": "markdown",
   "metadata": {},
   "source": [
    "### Ejercicio 2"
   ]
  },
  {
   "cell_type": "code",
   "execution_count": 4,
   "metadata": {},
   "outputs": [
    {
     "name": "stdout",
     "output_type": "stream",
     "text": [
      "[[12 -6  3]\n",
      " [-4 12 14]]\n"
     ]
    }
   ],
   "source": [
    "A = np.array([[3,0],[-1,5]])\n",
    "B = np.array([[4,-2,1],[0,2,3]])\n",
    "r = A@B\n",
    "print(r) "
   ]
  },
  {
   "attachments": {},
   "cell_type": "markdown",
   "metadata": {},
   "source": [
    "### Ejercicio 3"
   ]
  },
  {
   "cell_type": "code",
   "execution_count": 5,
   "metadata": {},
   "outputs": [
    {
     "name": "stdout",
     "output_type": "stream",
     "text": [
      "[[1.2 1.3]\n",
      " [2.2 2.1]\n",
      " [4.5 4.6]]\n",
      "[[ 87.   88.9]\n",
      " [105.6 107.1]]\n",
      "Tienda 1, 194.10000000000002\n",
      "Tienda 2, 196.0\n"
     ]
    }
   ],
   "source": [
    "res = np.array([[30, 15, 4],[25, 18, 8]])\n",
    "cntr= np.array([[1.2, 2.2, 4.5],[1.3, 2.1, 4.6]])\n",
    "\n",
    "print(cntr.T)\n",
    "\n",
    "r=res@cntr.T\n",
    "print(r)\n",
    "\n",
    "print(f\"Tienda 1, {(r[0,0]+r[1,1])}\")\n",
    "print(f\"Tienda 2, {(r[0,1]+r[1,1])}\")"
   ]
  },
  {
   "attachments": {},
   "cell_type": "markdown",
   "metadata": {},
   "source": [
    "### Ejercicio 4"
   ]
  },
  {
   "cell_type": "code",
   "execution_count": 31,
   "metadata": {},
   "outputs": [
    {
     "name": "stdout",
     "output_type": "stream",
     "text": [
      "Unidades de productos (<almacenes> , <productos>)\n",
      "[[200  75]\n",
      " [150 100]\n",
      " [100 125]]\n",
      "(3, 2)\n",
      "Precios por unidad ([camion , tren] , <productos>)\n",
      "[[1.5  1.75]\n",
      " [1.   1.5 ]\n",
      " [2.   1.  ]]\n",
      "Precios en camión (<almacenes>,<productos>)\n",
      "[[300.  112.5]\n",
      " [150.  100. ]\n",
      " [200.  250. ]]\n",
      "Total = 1112.5\n",
      "Precios en tren (<almacenes>,<productos>)\n",
      "[[350.   131.25]\n",
      " [225.   150.  ]\n",
      " [100.   125.  ]]\n",
      "Total = 1081.25\n",
      "Es más barato transportarlo por tren, que por camión\n"
     ]
    }
   ],
   "source": [
    "productos = np.array([[200,75],[150,100],[100,125]])\n",
    "precios = np.array([[1.5,1.75],[1,1.5],[2,1]])\n",
    "print('Unidades de productos (<almacenes> , <productos>)')\n",
    "print(productos)\n",
    "print(productos.shape)\n",
    "print('Precios por unidad ([camion , tren] , <productos>)')\n",
    "print(precios)\n",
    "\n",
    "porCamion=productos*np.array(precios[:,0:1])\n",
    "porTren=productos*np.array(precios[:,1:2])\n",
    "print('Precios en camión (<almacenes>,<productos>)')\n",
    "print(porCamion)\n",
    "print(f\"Total = {porCamion.sum()}\")\n",
    "print('Precios en tren (<almacenes>,<productos>)')\n",
    "print(porTren)\n",
    "print(f\"Total = {porTren.sum()}\")\n",
    "\n",
    "if (porCamion.sum() < porTren.sum()):\n",
    "    barato = \"camión\"\n",
    "    caro = \"tren\"\n",
    "else:\n",
    "    barato=\"tren\"\n",
    "    caro=\"camión\" \n",
    "\n",
    "\n",
    "print(f\"Es más barato transportarlo por {barato}, que por {caro}\")\n",
    "\n"
   ]
  },
  {
   "attachments": {},
   "cell_type": "markdown",
   "metadata": {},
   "source": [
    "### Ejercicio 5"
   ]
  },
  {
   "cell_type": "code",
   "execution_count": 7,
   "metadata": {},
   "outputs": [
    {
     "name": "stdout",
     "output_type": "stream",
     "text": [
      "Si lo corremos nos dice que es una matriz singular, esto es porque el sistema no tiene solución\n"
     ]
    }
   ],
   "source": [
    "a=np.array([[3,2],[6,4]])\n",
    "b=np.array([6,-9])\n",
    "\n",
    "print('Si lo corremos nos dice que es una matriz singular, esto es porque el sistema no tiene solución')\n",
    "\n",
    "#sistema1 = np.linalg.solve(a,b)\n",
    "#print(sistema1)\n",
    "#print(a@sistema1)\n",
    "\n"
   ]
  },
  {
   "cell_type": "code",
   "execution_count": 8,
   "metadata": {},
   "outputs": [
    {
     "name": "stdout",
     "output_type": "stream",
     "text": [
      "Solución:  [2.6 0.4]\n",
      "[3. 1.]\n",
      "x = 2.6   y = 0.4\n"
     ]
    }
   ],
   "source": [
    "#sistema2 = np.array([[1,1,3],[1,-4,1]])\n",
    "a=np.array([[1,1],[1,-4]])\n",
    "b=np.array([3,1])\n",
    "sistema2 = np.linalg.solve(a,b)\n",
    "print(\"Solución: \",sistema2)\n",
    "print(a@sistema2)\n",
    "print(f\"x = {sistema2[0]}   y = {sistema2[1]}\")"
   ]
  },
  {
   "cell_type": "code",
   "execution_count": 9,
   "metadata": {},
   "outputs": [
    {
     "name": "stdout",
     "output_type": "stream",
     "text": [
      "Solucion:  [ 3.65217391 -3.7826087  -4.04347826]\n",
      "[ 3.0000000e+00  8.8817842e-16 -1.2000000e+01]\n",
      "x = 3.6521739130434785   y = -3.782608695652174   z= -4.043478260869565\n"
     ]
    }
   ],
   "source": [
    "#sistema3 = np.array([[2,-1,2,3],[2,3,-1,0],[1,2,2,-12]])\n",
    "\n",
    "a=np.array([[2,-1,2],[2,3,-1],[1,2,2]])\n",
    "b=np.array([3,0,-12])\n",
    "sistema3 = np.linalg.solve(a,b)\n",
    "print(\"Solucion: \", sistema3)\n",
    "print(a@sistema3)\n",
    "print(f\"x = {sistema3[0]}   y = {sistema3[1]}   z= {sistema3[2]}\")"
   ]
  }
 ],
 "metadata": {
  "kernelspec": {
   "display_name": "base",
   "language": "python",
   "name": "python3"
  },
  "language_info": {
   "codemirror_mode": {
    "name": "ipython",
    "version": 3
   },
   "file_extension": ".py",
   "mimetype": "text/x-python",
   "name": "python",
   "nbconvert_exporter": "python",
   "pygments_lexer": "ipython3",
   "version": "3.10.9"
  },
  "orig_nbformat": 4
 },
 "nbformat": 4,
 "nbformat_minor": 2
}
