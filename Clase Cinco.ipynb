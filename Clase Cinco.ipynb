{
 "cells": [
  {
   "cell_type": "code",
   "execution_count": 21,
   "metadata": {},
   "outputs": [],
   "source": [
    "import numpy as np\n",
    "import matplotlib.pyplot as plt\n",
    "import statistics as sts"
   ]
  },
  {
   "cell_type": "code",
   "execution_count": 22,
   "metadata": {},
   "outputs": [
    {
     "name": "stdout",
     "output_type": "stream",
     "text": [
      "Altura máxima: 1.2999999523162842\n",
      "Altura mínima: 1.2000000476837158\n",
      "Rango: 0.09999990463256836\n",
      "Los 5 estudiantes más altos: [1.29 1.29 1.3  1.3  1.3 ]\n",
      "Los 6 estudiantes más bajos: [1.2  1.21 1.21 1.21 1.21 1.22]\n",
      "Estudiantes de 1.25 o más de altura 18\n",
      "% de estudiantes 1.24<=x<=1.28: 30.0%\n"
     ]
    }
   ],
   "source": [
    "arg1 = np.loadtxt(\"datos0.csv\", delimiter=\",\", dtype=np.float32)\n",
    "#print(arg1)\n",
    "print(f\"Altura máxima: {np.max(arg1)}\")\n",
    "print(f\"Altura mínima: {np.min(arg1)}\")\n",
    "print(f\"Rango: {np.max(arg1)-np.min(arg1)}\")\n",
    "arg2= np.sort(arg1)\n",
    "\n",
    "print(f\"Los 5 estudiantes más altos: {arg2[-5:]}\")\n",
    "print(f\"Los 6 estudiantes más bajos: {arg2[:6]}\")\n",
    "\n",
    "suma1_25=np.where(arg2>=1.25,1,0).sum()\n",
    "print(f\"Estudiantes de 1.25 o más de altura {suma1_25}\")\n",
    "sumaDos= np.where((arg2>=1.24)&(arg2<1.28),1,0).sum()/30\n",
    "print(f\"% de estudiantes 1.24<=x<=1.28: {sumaDos*100}%\")"
   ]
  },
  {
   "cell_type": "code",
   "execution_count": 37,
   "metadata": {},
   "outputs": [
    {
     "name": "stdout",
     "output_type": "stream",
     "text": [
      "[1 4 4 2 1 2 3 3 4 3 3] [ 1  5  9 11 12 14 17 20 24 27 30] [ 3.33 13.33 13.33  6.67  3.33  6.67 10.   10.   13.33 10.   10.  ] [ 3.33 16.66 29.99 36.66 39.99 46.66 56.66 66.66 79.99 89.99 99.99]\n"
     ]
    },
    {
     "data": {
      "image/png": "[encoded data removed]",
      "text/plain": [
       "<Figure size 640x480 with 1 Axes>"
      ]
     },
     "metadata": {},
     "output_type": "display_data"
    }
   ],
   "source": [
    "fig,ax=plt.subplots()\n",
    "variables,repetidas=np.unique(arg2,return_counts=True)\n",
    "#print(variables,repetidas)\n",
    "frecuencias_absolutas_simple=repetidas\n",
    "frecuencias_absolutas_acumuladas=np.cumsum(frecuencias_absolutas_simple)\n",
    "frecuencias_relativas_simple=np.round((frecuencias_absolutas_simple/30)*100,2)\n",
    "frecuencias_relativas_acumuladas=np.cumsum(frecuencias_relativas_simple)\n",
    "\n",
    "print(frecuencias_absolutas_simple,frecuencias_absolutas_acumuladas,frecuencias_relativas_simple,frecuencias_relativas_acumuladas)\n",
    "b= np.append(variables,1.31)\n",
    "frecuencias= ax.hist(arg2,bins=b, linewidth= .5, edgecolor='white')\n",
    "ax.set(xlim=(1.19, 1.32), xticks=np.arange(1.2, 1.32,.01),\n",
    "       ylim=(1, 7), yticks=np.linspace(0, 6, 7,dtype=np.int16))\n",
    "ax.yaxis.grid(color='gray', linestyle='dashed')\n",
    "ax.set_axisbelow(True)\n",
    "plt.show()"
   ]
  },
  {
   "cell_type": "code",
   "execution_count": 40,
   "metadata": {},
   "outputs": [
    {
     "name": "stdout",
     "output_type": "stream",
     "text": [
      "1.253333330154419\n",
      "1.2533334096272786\n",
      "1.2533334\n"
     ]
    }
   ],
   "source": [
    "ma_agrupados=variables*repetidas\n",
    "print(np.sum(ma_agrupados)/30)\n",
    "print(np.sum(arg2)/30)\n",
    "print(np.mean(arg2))\n"
   ]
  },
  {
   "cell_type": "code",
   "execution_count": 42,
   "metadata": {},
   "outputs": [
    {
     "name": "stdout",
     "output_type": "stream",
     "text": [
      "Media Geométrica datos agrupados:  1.252927267164492\n",
      "Media Geométrica de datos no agrupados:  1.252927269471094\n",
      "Media Geométrica con statistics:  1.252927267164492\n",
      "Mediana armónica:  1.2525204001195311\n",
      "Mediana:  1.26\n",
      "Moda:  1.21\n",
      "[1.21, 1.22, 1.28]\n",
      "[1.22, 1.26, 1.28]\n",
      "[1.21, 1.22, 1.22, 1.24, 1.26, 1.27, 1.28, 1.29, 1.3]\n",
      "[1.19, 1.2, 1.2, 1.2, 1.21, 1.21, 1.21, 1.21, 1.21, 1.21, 1.21, 1.21, 1.21, 1.21, 1.21, 1.21, 1.21, 1.22, 1.22, 1.22, 1.22, 1.22, 1.22, 1.22, 1.22, 1.22, 1.22, 1.22, 1.22, 1.22, 1.23, 1.23, 1.23, 1.23, 1.23, 1.23, 1.23, 1.24, 1.24, 1.24, 1.25, 1.25, 1.25, 1.25, 1.25, 1.25, 1.26, 1.26, 1.26, 1.26, 1.26, 1.26, 1.26, 1.26, 1.26, 1.26, 1.27, 1.27, 1.27, 1.27, 1.27, 1.27, 1.27, 1.27, 1.27, 1.27, 1.28, 1.28, 1.28, 1.28, 1.28, 1.28, 1.28, 1.28, 1.28, 1.28, 1.28, 1.28, 1.28, 1.29, 1.29, 1.29, 1.29, 1.29, 1.29, 1.29, 1.29, 1.29, 1.3, 1.3, 1.3, 1.3, 1.3, 1.3, 1.3, 1.3, 1.3, 1.3, 1.3]\n"
     ]
    }
   ],
   "source": [
    "#Media Geométrica datos agrupados\n",
    "media_g_agrupados=np.power(np.product(variables**repetidas),1/30)\n",
    "print(\"Media Geométrica datos agrupados: \",media_g_agrupados)\n",
    "#Media Geométrica de datos no agrupados\n",
    "media_g_noagrupados=np.power(np.product(arg2),1/30)\n",
    "print(\"Media Geométrica de datos no agrupados: \",media_g_noagrupados)\n",
    "#Media Geométrica con statistics\n",
    "print(\"Media Geométrica con statistics: \",sts.geometric_mean(arg2))\n",
    "#Media armónica H\n",
    "print(\"Mediana armónica: \",sts.harmonic_mean(arg2))\n",
    "#Mediana\n",
    "print(\"Mediana: \",np.median(arg2))\n",
    "#Moda\n",
    "print(\"Moda: \",sts.mode(arg2))\n",
    "#Multiples modas (distribución bimodal)\n",
    "print(sts.multimode(arg2))\n",
    "#Cuartiles\n",
    "print([round(q, 2) for q in sts.quantiles(arg2, n=4)])\n",
    "#Deciles\n",
    "print([round(q, 2) for q in sts.quantiles(arg2, n=10)])\n",
    "#percentiles\n",
    "print([round(q, 2) for q in sts.quantiles(arg2, n=100)])"
   ]
  }
 ],
 "metadata": {
  "kernelspec": {
   "display_name": "base",
   "language": "python",
   "name": "python3"
  },
  "language_info": {
   "codemirror_mode": {
    "name": "ipython",
    "version": 3
   },
   "file_extension": ".py",
   "mimetype": "text/x-python",
   "name": "python",
   "nbconvert_exporter": "python",
   "pygments_lexer": "ipython3",
   "version": "3.10.9"
  },
  "orig_nbformat": 4
 },
 "nbformat": 4,
 "nbformat_minor": 2
}
