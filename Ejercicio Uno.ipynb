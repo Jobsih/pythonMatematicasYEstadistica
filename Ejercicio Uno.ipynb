{
 "cells": [
  {
   "cell_type": "markdown",
   "id": "38a9c5a3",
   "metadata": {},
   "source": [
    "### Ejercicio uno"
   ]
  },
  {
   "cell_type": "code",
   "execution_count": 1,
   "id": "cd392500",
   "metadata": {},
   "outputs": [],
   "source": [
    "import math"
   ]
  },
  {
   "cell_type": "code",
   "execution_count": 2,
   "id": "0e9e8f66",
   "metadata": {},
   "outputs": [],
   "source": [
    "print(math.ceil(math.log2(2000)))"
   ]
  },
  {
   "cell_type": "markdown",
   "id": "9c3197a8",
   "metadata": {},
   "source": [
    "### Ejercicio 2"
   ]
  },
  {
   "cell_type": "code",
   "execution_count": 3,
   "id": "a2bc3d5e",
   "metadata": {},
   "outputs": [
    {
     "name": "stdout",
     "output_type": "stream",
     "text": [
      "1.0\n"
     ]
    }
   ],
   "source": [
    "print(math.log(2,2)+math.log(1,2))"
   ]
  },
  {
   "cell_type": "markdown",
   "id": "a4661be6",
   "metadata": {},
   "source": [
    "## Ejercicio 3"
   ]
  },
  {
   "cell_type": "code",
   "execution_count": 7,
   "id": "eed1fad3",
   "metadata": {},
   "outputs": [
    {
     "name": "stdout",
     "output_type": "stream",
     "text": [
      "-1.0\n",
      "1.2246467991473532e-16\n"
     ]
    }
   ],
   "source": [
    "radianes = (math.pi/180)*90\n",
    "print(math.cos(radianes))\n",
    "print(math.sin(radianes))"
   ]
  },
  {
   "cell_type": "code",
   "execution_count": 8,
   "id": "86b16ce8",
   "metadata": {},
   "outputs": [
    {
     "name": "stdout",
     "output_type": "stream",
     "text": [
      "-0.7071067811865475\n",
      "0.7071067811865476\n"
     ]
    }
   ],
   "source": [
    "radianes = (math.pi/180)*135\n",
    "print(math.cos(radianes))\n",
    "print(math.sin(radianes))"
   ]
  },
  {
   "cell_type": "code",
   "execution_count": 9,
   "id": "5055a662",
   "metadata": {},
   "outputs": [
    {
     "name": "stdout",
     "output_type": "stream",
     "text": [
      "0.8660254037844384\n",
      "-0.5000000000000004\n"
     ]
    }
   ],
   "source": [
    "radianes = (math.pi/180)*330\n",
    "print(math.cos(radianes))\n",
    "print(math.sin(radianes))"
   ]
  },
  {
   "cell_type": "code",
   "execution_count": 10,
   "id": "f91519bc",
   "metadata": {},
   "outputs": [
    {
     "name": "stdout",
     "output_type": "stream",
     "text": [
      "0.8660254037844392\n",
      "0.49999999999999906\n"
     ]
    }
   ],
   "source": [
    "radianes = (math.pi/180)*750\n",
    "print(math.cos(radianes))\n",
    "print(math.sin(radianes))"
   ]
  },
  {
   "cell_type": "markdown",
   "id": "07157956",
   "metadata": {},
   "source": [
    "## Ejercicio 4"
   ]
  },
  {
   "cell_type": "code",
   "execution_count": 12,
   "id": "7521a5cd",
   "metadata": {},
   "outputs": [
    {
     "name": "stdout",
     "output_type": "stream",
     "text": [
      "11232000\n"
     ]
    }
   ],
   "source": [
    "print(math.perm(26,3)*math.perm(10,3))"
   ]
  },
  {
   "cell_type": "code",
   "execution_count": 13,
   "id": "18316733",
   "metadata": {},
   "outputs": [
    {
     "name": "stdout",
     "output_type": "stream",
     "text": [
      "17576000.0\n"
     ]
    }
   ],
   "source": [
    "print(math.pow(26,3)*math.pow(10,3))"
   ]
  },
  {
   "cell_type": "markdown",
   "id": "a7ad430d",
   "metadata": {},
   "source": [
    "## Ejercicio 5"
   ]
  },
  {
   "cell_type": "code",
   "execution_count": 14,
   "id": "2aa6d5a2",
   "metadata": {},
   "outputs": [
    {
     "name": "stdout",
     "output_type": "stream",
     "text": [
      "10\n"
     ]
    }
   ],
   "source": [
    "print(math.comb(5,3))"
   ]
  }
 ],
 "metadata": {
  "kernelspec": {
   "display_name": "Python 3 (ipykernel)",
   "language": "python",
   "name": "python3"
  },
  "language_info": {
   "codemirror_mode": {
    "name": "ipython",
    "version": 3
   },
   "file_extension": ".py",
   "mimetype": "text/x-python",
   "name": "python",
   "nbconvert_exporter": "python",
   "pygments_lexer": "ipython3",
   "version": "3.10.9"
  }
 },
 "nbformat": 4,
 "nbformat_minor": 5
}
