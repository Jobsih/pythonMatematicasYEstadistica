{
 "cells": [
  {
   "cell_type": "markdown",
   "id": "f7de6713-4132-475d-8f8d-b4644e32ede7",
   "metadata": {},
   "source": [
    "# **Tipo de datos con Python**"
   ]
  },
  {
   "cell_type": "code",
   "execution_count": 1,
   "id": "439a16ba-e7b9-4dab-b48e-f485159a2200",
   "metadata": {},
   "outputs": [],
   "source": [
    "from decimal import Decimal\n",
    "from decimal import getcontext\n",
    "from decimal import localcontext\n",
    "from fractions import Fraction\n",
    "import math\n",
    "ctx= getcontext()"
   ]
  },
  {
   "cell_type": "markdown",
   "id": "5e8765c2-d7dd-4323-831f-fcc8760fab3e",
   "metadata": {},
   "source": [
    "## *Tipo de Dato Decimal*"
   ]
  },
  {
   "cell_type": "code",
   "execution_count": 2,
   "id": "411816bd-515d-43de-8a37-5280da7a314d",
   "metadata": {},
   "outputs": [
    {
     "name": "stdout",
     "output_type": "stream",
     "text": [
      "1.644510182156941083123019010\n"
     ]
    }
   ],
   "source": [
    "num1=Decimal('1.1324242')\n",
    "print(num1**4)"
   ]
  },
  {
   "cell_type": "code",
   "execution_count": 3,
   "id": "0880f56b-e8ff-419d-bc33-6954ba27df9b",
   "metadata": {},
   "outputs": [
    {
     "name": "stdout",
     "output_type": "stream",
     "text": [
      "1.64\n"
     ]
    }
   ],
   "source": [
    "ctx.prec=3\n",
    "print(num1**4)\n"
   ]
  },
  {
   "cell_type": "code",
   "execution_count": 10,
   "id": "9e0faa04-7c33-477f-95ba-b015acc579fd",
   "metadata": {},
   "outputs": [
    {
     "name": "stdout",
     "output_type": "stream",
     "text": [
      "1.6\n",
      "1.64\n"
     ]
    }
   ],
   "source": [
    "with localcontext() as ctx:\n",
    "    ctx.prec=2\n",
    "    print(num1**4)\n",
    "print(num1**4)"
   ]
  },
  {
   "cell_type": "code",
   "execution_count": 11,
   "id": "9f0b4642-5c8b-4926-b312-62c5aec4f255",
   "metadata": {},
   "outputs": [
    {
     "name": "stdout",
     "output_type": "stream",
     "text": [
      "(4+2j)\n"
     ]
    }
   ],
   "source": [
    "z=1 + 2j\n",
    "print(z+3)"
   ]
  },
  {
   "cell_type": "code",
   "execution_count": 13,
   "id": "511c9ca3-c4f5-456a-95b1-5543d9b329d3",
   "metadata": {},
   "outputs": [
    {
     "name": "stdout",
     "output_type": "stream",
     "text": [
      "7/10\n"
     ]
    }
   ],
   "source": [
    "num2=Fraction(1,2)\n",
    "num3=Fraction(1,5)\n",
    "print(num2+num3)"
   ]
  },
  {
   "cell_type": "code",
   "execution_count": 15,
   "id": "65ac5831-0f30-4610-b7c5-57c047f68a0f",
   "metadata": {},
   "outputs": [
    {
     "name": "stdout",
     "output_type": "stream",
     "text": [
      "8.0\n"
     ]
    }
   ],
   "source": [
    "print(math.sqrt(64))"
   ]
  },
  {
   "cell_type": "code",
   "execution_count": 16,
   "id": "fd51da09-b3a4-4bbe-a4a6-ec89f20fee42",
   "metadata": {},
   "outputs": [
    {
     "name": "stdout",
     "output_type": "stream",
     "text": [
      "0.7071067811865475\n",
      "0.7071067811865476\n",
      "0.9999999999999999\n"
     ]
    }
   ],
   "source": [
    "theta=math.pi/4\n",
    "print(math.sin(theta))\n",
    "print(math.cos(theta))\n",
    "print(math.tan(theta)) "
   ]
  }
 ],
 "metadata": {
  "kernelspec": {
   "display_name": "Python 3 (ipykernel)",
   "language": "python",
   "name": "python3"
  },
  "language_info": {
   "codemirror_mode": {
    "name": "ipython",
    "version": 3
   },
   "file_extension": ".py",
   "mimetype": "text/x-python",
   "name": "python",
   "nbconvert_exporter": "python",
   "pygments_lexer": "ipython3",
   "version": "3.10.9"
  }
 },
 "nbformat": 4,
 "nbformat_minor": 5
}
