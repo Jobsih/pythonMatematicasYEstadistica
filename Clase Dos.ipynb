{
 "cells": [
  {
   "attachments": {},
   "cell_type": "markdown",
   "id": "a4f972c9",
   "metadata": {},
   "source": [
    "# Numpy"
   ]
  },
  {
   "cell_type": "code",
   "execution_count": 1,
   "id": "0dab153c",
   "metadata": {},
   "outputs": [],
   "source": [
    "import numpy as np"
   ]
  },
  {
   "cell_type": "code",
   "execution_count": 2,
   "id": "89ac66d8",
   "metadata": {},
   "outputs": [
    {
     "name": "stdout",
     "output_type": "stream",
     "text": [
      "[0 1 2 3 4 5]\n"
     ]
    }
   ],
   "source": [
    "vector = np.array([0,1,2,3,4,5])\n",
    "print(vector)"
   ]
  },
  {
   "cell_type": "code",
   "execution_count": 3,
   "id": "65cf249f",
   "metadata": {},
   "outputs": [
    {
     "name": "stdout",
     "output_type": "stream",
     "text": [
      "[1. 2. 3. 4. 5.]\n",
      "[0.0e+00 0.0e+00 6.0e-08 0.0e+00 1.2e-07 0.0e+00 1.8e-07 0.0e+00 2.4e-07\n",
      " 0.0e+00 3.0e-07 0.0e+00]\n",
      "[1. 2. 3. 4. 5.]\n"
     ]
    }
   ],
   "source": [
    "vectorDos = np.array([1,2,3,4,5],dtype=np.float32)\n",
    "print(vectorDos)\n",
    "\n",
    "#Malo\n",
    "vector.dtype= np.float16\n",
    "print(vector)\n",
    "\n",
    "#Bueno\n",
    "vectorTres= np.array([1,2,3,4,5])\n",
    "vectorTres=vectorTres.astype(np.float32)\n",
    "print(vectorTres)"
   ]
  },
  {
   "attachments": {},
   "cell_type": "markdown",
   "id": "b73c0fad",
   "metadata": {},
   "source": [
    "Con dtype se utiliza notación científica, pero no corresponde con los datos que teníamos"
   ]
  },
  {
   "cell_type": "code",
   "execution_count": 4,
   "id": "db148f10",
   "metadata": {},
   "outputs": [
    {
     "name": "stdout",
     "output_type": "stream",
     "text": [
      "4.0\n"
     ]
    }
   ],
   "source": [
    "print(vectorTres[3])"
   ]
  },
  {
   "cell_type": "code",
   "execution_count": 5,
   "id": "0bb4aac4",
   "metadata": {},
   "outputs": [
    {
     "name": "stdout",
     "output_type": "stream",
     "text": [
      "[0 1 2 3 4 5 6 7]\n"
     ]
    }
   ],
   "source": [
    "vectorCuatro= np.array([0,1,2,3,4,5,6,7,8,9,10,11,12,13,14,15])\n",
    "print(vectorCuatro[0:8])"
   ]
  },
  {
   "cell_type": "code",
   "execution_count": 6,
   "id": "29b7d270",
   "metadata": {},
   "outputs": [
    {
     "name": "stdout",
     "output_type": "stream",
     "text": [
      "[ 0  0 -1]\n",
      "[0 2 5]\n",
      "[ 0 -1 -6]\n",
      "[0. 1. 2.]\n",
      "[0 2 4]\n",
      "[False  True  True]\n",
      "[1 1 4]\n"
     ]
    }
   ],
   "source": [
    "a= np.array([0,1,2])\n",
    "b= np.array([0,-1,-3])\n",
    "c= np.array([1,1,1])\n",
    "\n",
    "print(a+b)\n",
    "print(a-b)\n",
    "print(a*b)\n",
    "print(a/c)\n",
    "print(2*a)\n",
    "demo = a>=1\n",
    "print(demo)\n",
    "print(a**a)"
   ]
  },
  {
   "cell_type": "code",
   "execution_count": 7,
   "id": "24002b2f",
   "metadata": {},
   "outputs": [
    {
     "name": "stdout",
     "output_type": "stream",
     "text": [
      "[ 0.          1.07142857  2.14285714  3.21428571  4.28571429  5.35714286\n",
      "  6.42857143  7.5         8.57142857  9.64285714 10.71428571 11.78571429\n",
      " 12.85714286 13.92857143 15.        ]\n",
      "[ 0  1  2  3  4  5  6  7  8  9 10 11 12 13 14 15]\n"
     ]
    }
   ],
   "source": [
    "print(np.linspace(0,15,15))\n",
    "print(np.arange(0,16,1))"
   ]
  },
  {
   "cell_type": "code",
   "execution_count": 8,
   "id": "67d21412",
   "metadata": {},
   "outputs": [
    {
     "name": "stdout",
     "output_type": "stream",
     "text": [
      "[[1 2 3]\n",
      " [4 5 6]\n",
      " [7 8 9]]\n",
      "(3, 3)\n",
      "(16,)\n",
      "[1 2 3 4 5 6 7 8 9]\n",
      "[[1 2 3]\n",
      " [4 5 6]\n",
      " [7 8 9]]\n",
      "[[ 0  1  2  3  4  5  6  7]\n",
      " [ 8  9 10 11 12 13 14 15]]\n"
     ]
    }
   ],
   "source": [
    "matrix = np.array([[1,2,3],[4,5,6],[7,8,9]])\n",
    "a= np.arange(0,16,1)\n",
    "print(matrix)\n",
    "print(matrix.shape)\n",
    "print(a.shape)\n",
    "nueva= matrix.reshape(9,)\n",
    "print(nueva)\n",
    "print(matrix)\n",
    "b= a.reshape(2,8)\n",
    "print(b)\n",
    "\n",
    "mt1=[[34,3],[67,7]]\n",
    "mt2=[[11,2],[78,3]]\n",
    "mt3=[[23,32],[90,1]]\n",
    "arr1=np.array([mt1,mt2,mt3])"
   ]
  },
  {
   "cell_type": "code",
   "execution_count": 9,
   "id": "706122fa",
   "metadata": {},
   "outputs": [
    {
     "name": "stdout",
     "output_type": "stream",
     "text": [
      "[[1 2 3]\n",
      " [4 5 6]\n",
      " [7 8 9]]\n",
      "(3, 3)\n",
      "[[2 3]\n",
      " [5 6]]\n",
      "(2, 2)\n"
     ]
    }
   ],
   "source": [
    "m=np.array([[1,2,3],[4,5,6],[7,8,9]])\n",
    "print(m)\n",
    "print(m.shape)\n",
    "\n",
    "c1=m[:2,1:3] \n",
    "print(c1)\n",
    "print(c1.shape)"
   ]
  },
  {
   "cell_type": "code",
   "execution_count": 10,
   "id": "1ec95f1f",
   "metadata": {},
   "outputs": [
    {
     "name": "stdout",
     "output_type": "stream",
     "text": [
      "[[7 8 9]]\n",
      "(1, 3)\n",
      "8\n"
     ]
    }
   ],
   "source": [
    "c2=m[2:,:] \n",
    "print(c2)\n",
    "print(c2.shape)\n",
    "print(c2[0][1])"
   ]
  },
  {
   "cell_type": "code",
   "execution_count": 12,
   "id": "4e5eb7dd",
   "metadata": {},
   "outputs": [
    {
     "name": "stdout",
     "output_type": "stream",
     "text": [
      "[2. 1.]\n",
      "[3. 5.]\n"
     ]
    }
   ],
   "source": [
    "A= np.array([[2,-1],[1,3]])\n",
    "b= np.array([3,5])\n",
    "c=np.linalg.solve(A,b)\n",
    "print(c)\n",
    "print(A@c)\n"
   ]
  }
 ],
 "metadata": {
  "kernelspec": {
   "display_name": "Python 3 (ipykernel)",
   "language": "python",
   "name": "python3"
  },
  "language_info": {
   "codemirror_mode": {
    "name": "ipython",
    "version": 3
   },
   "file_extension": ".py",
   "mimetype": "text/x-python",
   "name": "python",
   "nbconvert_exporter": "python",
   "pygments_lexer": "ipython3",
   "version": "3.10.9"
  }
 },
 "nbformat": 4,
 "nbformat_minor": 5
}
